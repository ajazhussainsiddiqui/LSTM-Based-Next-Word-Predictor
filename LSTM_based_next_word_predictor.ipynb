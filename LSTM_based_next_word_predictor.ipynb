{
 "cells": [
  {
   "cell_type": "code",
   "execution_count": null,
   "metadata": {
    "colab": {
     "base_uri": "https://localhost:8080/"
    },
    "executionInfo": {
     "elapsed": 18767,
     "status": "ok",
     "timestamp": 1760794268594,
     "user": {
      "displayName": "Robert",
      "userId": "18158112918021476886"
     },
     "user_tz": -330
    },
    "id": "KQcfiNoYAjSL",
    "outputId": "a6fb7b57-e8ee-4613-f2fa-3894c97b4a4f"
   },
   "outputs": [
    {
     "name": "stdout",
     "output_type": "stream",
     "text": [
      "Requirement already satisfied: nltk in /usr/local/lib/python3.12/dist-packages (3.9.1)\n",
      "Requirement already satisfied: click in /usr/local/lib/python3.12/dist-packages (from nltk) (8.3.0)\n",
      "Requirement already satisfied: joblib in /usr/local/lib/python3.12/dist-packages (from nltk) (1.5.2)\n",
      "Requirement already satisfied: regex>=2021.8.3 in /usr/local/lib/python3.12/dist-packages (from nltk) (2024.11.6)\n",
      "Requirement already satisfied: tqdm in /usr/local/lib/python3.12/dist-packages (from nltk) (4.67.1)\n"
     ]
    }
   ],
   "source": [
    "!pip install nltk"
   ]
  },
  {
   "cell_type": "code",
   "execution_count": 2,
   "metadata": {
    "executionInfo": {
     "elapsed": 10976,
     "status": "ok",
     "timestamp": 1760794279572,
     "user": {
      "displayName": "Robert",
      "userId": "18158112918021476886"
     },
     "user_tz": -330
    },
    "id": "llTy8NJZLDK_"
   },
   "outputs": [],
   "source": [
    "import torch\n",
    "import torch.nn as nn\n",
    "import torch.optim as optim\n",
    "import numpy as np\n",
    "from collections import Counter\n",
    "from torch.utils.data import Dataset, DataLoader\n",
    "from nltk.tokenize import word_tokenize\n",
    "import nltk"
   ]
  },
  {
   "cell_type": "code",
   "execution_count": 3,
   "metadata": {
    "executionInfo": {
     "elapsed": 8,
     "status": "ok",
     "timestamp": 1760794279590,
     "user": {
      "displayName": "Robert",
      "userId": "18158112918021476886"
     },
     "user_tz": -330
    },
    "id": "fLwm0Y_MzVuh"
   },
   "outputs": [],
   "source": [
    "document = \"\"\"About the Program\n",
    "What is the course fee for  Data Science Mentorship Program (DSMP 2023)\n",
    "The course follows a monthly subscription model where you have to make monthly payments of Rs 799/month.\n",
    "What is the total duration of the course?\n",
    "The total duration of the course is 7 months. So the total course fee becomes 799*7 = Rs 5600(approx.)\n",
    "What is the syllabus of the mentorship program?\n",
    "We will be covering the following modules:\n",
    "Python Fundamentals\n",
    "Python libraries for Data Science\n",
    "Data Analysis\n",
    "SQL for Data Science\n",
    "Maths for Machine Learning\n",
    "ML Algorithms\n",
    "Practical ML\n",
    "MLOPs\n",
    "Case studies\n",
    "You can check the detailed syllabus here - https://learnwith.campusx.in/courses/CampusX-Data-Science-Mentorship-Program-637339afe4b0615a1bbed390\n",
    "Will Deep Learning and NLP be a part of this program?\n",
    "No, NLP and Deep Learning both are not a part of this program’s curriculum.\n",
    "What if I miss a live session? Will I get a recording of the session?\n",
    "Yes all our sessions are recorded, so even if you miss a session you can go back and watch the recording.\n",
    "Where can I find the class schedule?\n",
    "Checkout this google sheet to see month by month time table of the course - https://docs.google.com/spreadsheets/d/16OoTax_A6ORAeCg4emgexhqqPv3noQPYKU7RJ6ArOzk/edit?usp=sharing.\n",
    "What is the time duration of all the live sessions?\n",
    "Roughly, all the sessions last 2 hours.\n",
    "What is the language spoken by the instructor during the sessions?\n",
    "Hinglish\n",
    "How will I be informed about the upcoming class?\n",
    "You will get a mail from our side before every paid session once you become a paid user.\n",
    "Can I do this course if I am from a non-tech background?\n",
    "Yes, absolutely.\n",
    "I am late, can I join the program in the middle?\n",
    "Absolutely, you can join the program anytime.\n",
    "If I join/pay in the middle, will I be able to see all the past lectures?\n",
    "Yes, once you make the payment you will be able to see all the past content in your dashboard.\n",
    "Where do I have to submit the task?\n",
    "You don’t have to submit the task. We will provide you with the solutions, you have to self evaluate the task yourself.\n",
    "Will we do case studies in the program?\n",
    "Yes.\n",
    "Where can we contact you?\n",
    "You can mail us at nitish.campusx@gmail.com\n",
    "Payment/Registration related questions\n",
    "Where do we have to make our payments? Your YouTube channel or website?\n",
    "You have to make all your monthly payments on our website. Here is the link for our website - https://learnwith.campusx.in/\n",
    "Can we pay the entire amount of Rs 5600 all at once?\n",
    "Unfortunately no, the program follows a monthly subscription model.\n",
    "What is the validity of monthly subscription? Suppose if I pay on 15th Jan, then do I have to pay again on 1st Feb or 15th Feb\n",
    "15th Feb. The validity period is 30 days from the day you make the payment. So essentially you can join anytime you don’t have to wait for a month to end.\n",
    "What if I don’t like the course after making the payment. What is the refund policy?\n",
    "You get a 7 days refund period from the day you have made the payment.\n",
    "I am living outside India and I am not able to make the payment on the website, what should I do?\n",
    "You have to contact us by sending a mail at nitish.campusx@gmail.com\n",
    "Post registration queries\n",
    "Till when can I view the paid videos on the website?\n",
    "This one is tricky, so read carefully. You can watch the videos till your subscription is valid. Suppose you have purchased subscription on 21st Jan, you will be able to watch all the past paid sessions in the period of 21st Jan to 20th Feb. But after 21st Feb you will have to purchase the subscription again.\n",
    "But once the course is over and you have paid us Rs 5600(or 7 installments of Rs 799) you will be able to watch the paid sessions till Aug 2024.\n",
    "Why lifetime validity is not provided?\n",
    "Because of the low course fee.\n",
    "Where can I reach out in case of a doubt after the session?\n",
    "You will have to fill a google form provided in your dashboard and our team will contact you for a 1 on 1 doubt clearance session\n",
    "If I join the program late, can I still ask past week doubts?\n",
    "Yes, just select past week doubt in the doubt clearance google form.\n",
    "I am living outside India and I am not able to make the payment on the website, what should I do?\n",
    "You have to contact us by sending a mail at nitish.campusx@gmai.com\n",
    "Certificate and Placement Assistance related queries\n",
    "What is the criteria to get the certificate?\n",
    "There are 2 criterias:\n",
    "You have to pay the entire fee of Rs 5600\n",
    "You have to attempt all the course assessments.\n",
    "I am joining late. How can I pay payment of the earlier months?\n",
    "You will get a link to pay fee of earlier months in your dashboard once you pay for the current month.\n",
    "I have read that Placement assistance is a part of this program. What comes under Placement assistance?\n",
    "This is to clarify that Placement assistance does not mean Placement guarantee. So we dont guarantee you any jobs or for that matter even interview calls. So if you are planning to join this course just for placements, I am afraid you will be disappointed. Here is what comes under placement assistance\n",
    "Portfolio Building sessions\n",
    "Soft skill sessions\n",
    "Sessions with industry mentors\n",
    "Discussion on Job hunting strategies\"\"\"\n"
   ]
  },
  {
   "cell_type": "code",
   "execution_count": 4,
   "metadata": {
    "colab": {
     "base_uri": "https://localhost:8080/"
    },
    "executionInfo": {
     "elapsed": 522,
     "status": "ok",
     "timestamp": 1760794280115,
     "user": {
      "displayName": "Robert",
      "userId": "18158112918021476886"
     },
     "user_tz": -330
    },
    "id": "dZu5J5WjNuqB",
    "outputId": "a6d5a54c-08fe-4e21-b6c3-fad6f2b70c87"
   },
   "outputs": [
    {
     "name": "stderr",
     "output_type": "stream",
     "text": [
      "[nltk_data] Downloading package punkt to /root/nltk_data...\n",
      "[nltk_data]   Unzipping tokenizers/punkt.zip.\n",
      "[nltk_data] Downloading package punkt_tab to /root/nltk_data...\n",
      "[nltk_data]   Unzipping tokenizers/punkt_tab.zip.\n"
     ]
    },
    {
     "data": {
      "text/plain": [
       "True"
      ]
     },
     "execution_count": 4,
     "metadata": {},
     "output_type": "execute_result"
    }
   ],
   "source": [
    "# tokenization\n",
    "nltk.download('punkt')\n",
    "nltk.download('punkt_tab')"
   ]
  },
  {
   "cell_type": "code",
   "execution_count": 5,
   "metadata": {
    "executionInfo": {
     "elapsed": 24,
     "status": "ok",
     "timestamp": 1760794280141,
     "user": {
      "displayName": "Robert",
      "userId": "18158112918021476886"
     },
     "user_tz": -330
    },
    "id": "0JcOcniGOABp"
   },
   "outputs": [],
   "source": [
    "# tokenize\n",
    "tokens = word_tokenize(document.lower())"
   ]
  },
  {
   "cell_type": "code",
   "execution_count": 6,
   "metadata": {
    "colab": {
     "base_uri": "https://localhost:8080/"
    },
    "executionInfo": {
     "elapsed": 6,
     "status": "ok",
     "timestamp": 1760794280149,
     "user": {
      "displayName": "Robert",
      "userId": "18158112918021476886"
     },
     "user_tz": -330
    },
    "id": "p4utWjWcOrrT",
    "outputId": "b6b7e014-a05d-403a-d631-4679659c8512"
   },
   "outputs": [
    {
     "data": {
      "text/plain": [
       "289"
      ]
     },
     "execution_count": 6,
     "metadata": {},
     "output_type": "execute_result"
    }
   ],
   "source": [
    "# build vocab\n",
    "\n",
    "vocab = {'<unk>': 0, }\n",
    "tokens_frequency_dict = Counter(tokens)\n",
    "\n",
    "for token in tokens_frequency_dict.keys():\n",
    "    if token not in vocab.keys():\n",
    "      vocab[token]=len(vocab)\n",
    "\n",
    "len(vocab)"
   ]
  },
  {
   "cell_type": "code",
   "execution_count": 7,
   "metadata": {
    "executionInfo": {
     "elapsed": 14,
     "status": "ok",
     "timestamp": 1760794280164,
     "user": {
      "displayName": "Robert",
      "userId": "18158112918021476886"
     },
     "user_tz": -330
    },
    "id": "-qtoFdszW5vS"
   },
   "outputs": [],
   "source": [
    "# converting tokens(string) value to index(integer) value  in the each sentence\n",
    "def text_to_indices(sentence, vacab):\n",
    "\n",
    "    numerical_sentence = []\n",
    "\n",
    "    for token in sentence:\n",
    "        if token in vocab:\n",
    "            numerical_sentence.append(vocab[token])\n",
    "        else:\n",
    "          numerical_sentence.append(vocab['<unk>'])\n",
    "\n",
    "    return numerical_sentence"
   ]
  },
  {
   "cell_type": "code",
   "execution_count": 8,
   "metadata": {
    "executionInfo": {
     "elapsed": 13,
     "status": "ok",
     "timestamp": 1760794280165,
     "user": {
      "displayName": "Robert",
      "userId": "18158112918021476886"
     },
     "user_tz": -330
    },
    "id": "OVSQLPD7PJWU"
   },
   "outputs": [],
   "source": [
    "# extract sentences from data\n",
    "\n",
    "input_sentences = document.split('\\n') # separated each lines of this sentences\n"
   ]
  },
  {
   "cell_type": "code",
   "execution_count": 9,
   "metadata": {
    "executionInfo": {
     "elapsed": 29,
     "status": "ok",
     "timestamp": 1760794280196,
     "user": {
      "displayName": "Robert",
      "userId": "18158112918021476886"
     },
     "user_tz": -330
    },
    "id": "6oe5Zns4VZwK"
   },
   "outputs": [],
   "source": [
    "input_numerical_sentences=[]\n",
    "\n",
    "for sentence in input_sentences:\n",
    "  tokens = word_tokenize(sentence.lower())   # converting each senteces into token in the list\n",
    "\n",
    "  input_numerical_sentences.append(text_to_indices(tokens, vocab))\n"
   ]
  },
  {
   "cell_type": "code",
   "execution_count": 10,
   "metadata": {
    "executionInfo": {
     "elapsed": 10,
     "status": "ok",
     "timestamp": 1760794280199,
     "user": {
      "displayName": "Robert",
      "userId": "18158112918021476886"
     },
     "user_tz": -330
    },
    "id": "K4VTDqN0p9x5"
   },
   "outputs": [],
   "source": [
    "# creating training sequence and stroing it\n",
    "\n",
    "training_sequence = []\n",
    "\n",
    "for sentence in input_numerical_sentences:\n",
    "\n",
    "   for i in range(1, len(sentence)):  # range start from 1 bcz we give sequence size minimum 2 words so we can make last word as target or output in training\n",
    "    training_sequence.append(sentence[:i+1])\n",
    "\n"
   ]
  },
  {
   "cell_type": "code",
   "execution_count": 11,
   "metadata": {
    "colab": {
     "base_uri": "https://localhost:8080/"
    },
    "executionInfo": {
     "elapsed": 9,
     "status": "ok",
     "timestamp": 1760794280200,
     "user": {
      "displayName": "Robert",
      "userId": "18158112918021476886"
     },
     "user_tz": -330
    },
    "id": "uOZ9HZCMYlfY",
    "outputId": "0837c07b-222e-44d0-c3e5-dafeedcb4f7a"
   },
   "outputs": [
    {
     "name": "stdout",
     "output_type": "stream",
     "text": [
      "942\n"
     ]
    }
   ],
   "source": [
    "print(len(training_sequence))  # training rows\n"
   ]
  },
  {
   "cell_type": "code",
   "execution_count": 12,
   "metadata": {
    "colab": {
     "base_uri": "https://localhost:8080/"
    },
    "executionInfo": {
     "elapsed": 19,
     "status": "ok",
     "timestamp": 1760794280217,
     "user": {
      "displayName": "Robert",
      "userId": "18158112918021476886"
     },
     "user_tz": -330
    },
    "id": "L424GKCWaNSp",
    "outputId": "d36aedb5-20da-4f64-8805-60bc8e4b3634"
   },
   "outputs": [
    {
     "data": {
      "text/plain": [
       "62"
      ]
     },
     "execution_count": 12,
     "metadata": {},
     "output_type": "execute_result"
    }
   ],
   "source": [
    "# finding longest training sequence\n",
    "len_sequence = []\n",
    "for sequence in training_sequence:\n",
    "  len_sequence.append(len(sequence))\n",
    "\n",
    "max_len=max(len_sequence)\n",
    "max_len"
   ]
  },
  {
   "cell_type": "code",
   "execution_count": 13,
   "metadata": {
    "executionInfo": {
     "elapsed": 2,
     "status": "ok",
     "timestamp": 1760794280220,
     "user": {
      "displayName": "Robert",
      "userId": "18158112918021476886"
     },
     "user_tz": -330
    },
    "id": "SdokbvRUcG1l"
   },
   "outputs": [],
   "source": [
    "#  make all sequence size same by 0 padding\n",
    "padded_training_sequence = []\n",
    "\n",
    "for sequence in training_sequence:\n",
    "  needed_padding_len = max_len - len(sequence)\n",
    "  new_sequence = [0]*needed_padding_len + sequence\n",
    "\n",
    "  padded_training_sequence.append(new_sequence)\n"
   ]
  },
  {
   "cell_type": "code",
   "execution_count": 14,
   "metadata": {
    "colab": {
     "base_uri": "https://localhost:8080/"
    },
    "executionInfo": {
     "elapsed": 4,
     "status": "ok",
     "timestamp": 1760794280226,
     "user": {
      "displayName": "Robert",
      "userId": "18158112918021476886"
     },
     "user_tz": -330
    },
    "id": "rKSLPPXreFor",
    "outputId": "c5b8d37e-a155-4813-b7d2-0f163c22f62a"
   },
   "outputs": [
    {
     "name": "stdout",
     "output_type": "stream",
     "text": [
      "62\n"
     ]
    }
   ],
   "source": [
    "print(len(padded_training_sequence[0]))"
   ]
  },
  {
   "cell_type": "code",
   "execution_count": 15,
   "metadata": {
    "executionInfo": {
     "elapsed": 6,
     "status": "ok",
     "timestamp": 1760794280245,
     "user": {
      "displayName": "Robert",
      "userId": "18158112918021476886"
     },
     "user_tz": -330
    },
    "id": "6lRBJLyyeiOi"
   },
   "outputs": [],
   "source": [
    "padded_training_sequence = torch.tensor(padded_training_sequence, dtype=torch.long)"
   ]
  },
  {
   "cell_type": "code",
   "execution_count": 16,
   "metadata": {
    "colab": {
     "base_uri": "https://localhost:8080/"
    },
    "executionInfo": {
     "elapsed": 17,
     "status": "ok",
     "timestamp": 1760794280272,
     "user": {
      "displayName": "Robert",
      "userId": "18158112918021476886"
     },
     "user_tz": -330
    },
    "id": "PitMP48Feus3",
    "outputId": "81e3f3f4-797b-423a-aa2a-fb6a24619f9f"
   },
   "outputs": [
    {
     "data": {
      "text/plain": [
       "torch.Size([942, 62])"
      ]
     },
     "execution_count": 16,
     "metadata": {},
     "output_type": "execute_result"
    }
   ],
   "source": [
    "padded_training_sequence.shape"
   ]
  },
  {
   "cell_type": "code",
   "execution_count": 17,
   "metadata": {
    "executionInfo": {
     "elapsed": 42,
     "status": "ok",
     "timestamp": 1760794280316,
     "user": {
      "displayName": "Robert",
      "userId": "18158112918021476886"
     },
     "user_tz": -330
    },
    "id": "lJoXdfPnzhBP"
   },
   "outputs": [],
   "source": [
    "\n",
    "X = padded_training_sequence[:, :-1]\n",
    "y = padded_training_sequence[:, -1]  # assigning last column data as label column"
   ]
  },
  {
   "cell_type": "code",
   "execution_count": 18,
   "metadata": {
    "colab": {
     "base_uri": "https://localhost:8080/"
    },
    "executionInfo": {
     "elapsed": 19,
     "status": "ok",
     "timestamp": 1760794280318,
     "user": {
      "displayName": "Robert",
      "userId": "18158112918021476886"
     },
     "user_tz": -330
    },
    "id": "LVe78Ti71H3U",
    "outputId": "7c27c73c-526b-4836-9cf0-612ee8c917eb"
   },
   "outputs": [
    {
     "data": {
      "text/plain": [
       "torch.Size([942])"
      ]
     },
     "execution_count": 18,
     "metadata": {},
     "output_type": "execute_result"
    }
   ],
   "source": [
    "X.shape\n",
    "y.shape"
   ]
  },
  {
   "cell_type": "code",
   "execution_count": 19,
   "metadata": {
    "executionInfo": {
     "elapsed": 4,
     "status": "ok",
     "timestamp": 1760794280319,
     "user": {
      "displayName": "Robert",
      "userId": "18158112918021476886"
     },
     "user_tz": -330
    },
    "id": "pM6Q92bu1laF"
   },
   "outputs": [],
   "source": [
    "class CustomDataset(Dataset):\n",
    "\n",
    "  def __init__(self, X, y):\n",
    "    self.X = X\n",
    "    self.y = y\n",
    "\n",
    "  def __len__(self):\n",
    "    return X.shape[0]\n",
    "\n",
    "  def __getitem__(self, index):\n",
    "    return self.X[index], self.y[index]"
   ]
  },
  {
   "cell_type": "code",
   "execution_count": 20,
   "metadata": {
    "executionInfo": {
     "elapsed": 2,
     "status": "ok",
     "timestamp": 1760794280323,
     "user": {
      "displayName": "Robert",
      "userId": "18158112918021476886"
     },
     "user_tz": -330
    },
    "id": "-A9nHhYs22ip"
   },
   "outputs": [],
   "source": [
    "dataset = CustomDataset(X, y)"
   ]
  },
  {
   "cell_type": "code",
   "execution_count": 21,
   "metadata": {
    "colab": {
     "base_uri": "https://localhost:8080/"
    },
    "executionInfo": {
     "elapsed": 16,
     "status": "ok",
     "timestamp": 1760794280349,
     "user": {
      "displayName": "Robert",
      "userId": "18158112918021476886"
     },
     "user_tz": -330
    },
    "id": "T3HbQxym3DTr",
    "outputId": "a3cf6332-2e60-42eb-b46a-47344fb705b2"
   },
   "outputs": [
    {
     "data": {
      "text/plain": [
       "(tensor([0, 0, 0, 0, 0, 0, 0, 0, 0, 0, 0, 0, 0, 0, 0, 0, 0, 0, 0, 0, 0, 0, 0, 0,\n",
       "         0, 0, 0, 0, 0, 0, 0, 0, 0, 0, 0, 0, 0, 0, 0, 0, 0, 0, 0, 0, 0, 0, 0, 0,\n",
       "         0, 0, 0, 0, 0, 0, 0, 0, 0, 0, 0, 1, 2]),\n",
       " tensor(3))"
      ]
     },
     "execution_count": 21,
     "metadata": {},
     "output_type": "execute_result"
    }
   ],
   "source": [
    "len(dataset)\n",
    "\n",
    "dataset[1]"
   ]
  },
  {
   "cell_type": "code",
   "execution_count": 22,
   "metadata": {
    "executionInfo": {
     "elapsed": 1,
     "status": "ok",
     "timestamp": 1760794280352,
     "user": {
      "displayName": "Robert",
      "userId": "18158112918021476886"
     },
     "user_tz": -330
    },
    "id": "Sc_FaLN_3Sc-"
   },
   "outputs": [],
   "source": [
    "dataloader = DataLoader(dataset, batch_size=32, shuffle=True)"
   ]
  },
  {
   "cell_type": "code",
   "execution_count": 23,
   "metadata": {
    "executionInfo": {
     "elapsed": 1,
     "status": "ok",
     "timestamp": 1760794280355,
     "user": {
      "displayName": "Robert",
      "userId": "18158112918021476886"
     },
     "user_tz": -330
    },
    "id": "srIVpF7h3rzI"
   },
   "outputs": [],
   "source": [
    "class LSTMModel(nn.Module):\n",
    "\n",
    "  def __init__(self, vocab_size):\n",
    "\n",
    "    super().__init__()\n",
    "    self.embedding = nn.Embedding(vocab_size, 100)\n",
    "    self.lstm = nn.LSTM(input_size=100, hidden_size=150, batch_first=True)\n",
    "    self.fc = nn.Linear(in_features=150, out_features=vocab_size)\n",
    "\n",
    "  def forward(self, X):\n",
    "    embedded = self.embedding(X)\n",
    "    intermediate_hidden_states, (final_hidden_state, final_cell_state) = self.lstm(embedded)\n",
    "    output = self.fc(final_hidden_state.squeeze(0))\n",
    "\n",
    "    return output\n"
   ]
  },
  {
   "cell_type": "code",
   "execution_count": 24,
   "metadata": {
    "executionInfo": {
     "elapsed": 2,
     "status": "ok",
     "timestamp": 1760794280359,
     "user": {
      "displayName": "Robert",
      "userId": "18158112918021476886"
     },
     "user_tz": -330
    },
    "id": "f9MgZxGYL-Ae"
   },
   "outputs": [],
   "source": [
    "model = LSTMModel(len(vocab))"
   ]
  },
  {
   "cell_type": "code",
   "execution_count": 25,
   "metadata": {
    "colab": {
     "base_uri": "https://localhost:8080/"
    },
    "executionInfo": {
     "elapsed": 25,
     "status": "ok",
     "timestamp": 1760794280437,
     "user": {
      "displayName": "Robert",
      "userId": "18158112918021476886"
     },
     "user_tz": -330
    },
    "id": "UdR7N5U6Mr2G",
    "outputId": "37909513-66dd-4db0-e527-178c80bd7700"
   },
   "outputs": [
    {
     "data": {
      "text/plain": [
       "device(type='cuda')"
      ]
     },
     "execution_count": 25,
     "metadata": {},
     "output_type": "execute_result"
    }
   ],
   "source": [
    "device = torch.device('cuda' if torch.cuda.is_available() else 'cpu')\n",
    "device"
   ]
  },
  {
   "cell_type": "code",
   "execution_count": 26,
   "metadata": {
    "colab": {
     "base_uri": "https://localhost:8080/"
    },
    "executionInfo": {
     "elapsed": 414,
     "status": "ok",
     "timestamp": 1760794280850,
     "user": {
      "displayName": "Robert",
      "userId": "18158112918021476886"
     },
     "user_tz": -330
    },
    "id": "nQsBV1aqM_C0",
    "outputId": "eb08668c-ab9c-40b5-c6c5-9b3b4c91ad7f"
   },
   "outputs": [
    {
     "data": {
      "text/plain": [
       "LSTMModel(\n",
       "  (embedding): Embedding(289, 100)\n",
       "  (lstm): LSTM(100, 150, batch_first=True)\n",
       "  (fc): Linear(in_features=150, out_features=289, bias=True)\n",
       ")"
      ]
     },
     "execution_count": 26,
     "metadata": {},
     "output_type": "execute_result"
    }
   ],
   "source": [
    "model.to(device)"
   ]
  },
  {
   "cell_type": "code",
   "execution_count": 27,
   "metadata": {
    "executionInfo": {
     "elapsed": 9341,
     "status": "ok",
     "timestamp": 1760794290190,
     "user": {
      "displayName": "Robert",
      "userId": "18158112918021476886"
     },
     "user_tz": -330
    },
    "id": "rjfeHPFzNQe8"
   },
   "outputs": [],
   "source": [
    "epochs = 50\n",
    "learning_rate = 0.001\n",
    "\n",
    "criterion = nn.CrossEntropyLoss()\n",
    "\n",
    "optimizer = optim.Adam(model.parameters(), lr = learning_rate)"
   ]
  },
  {
   "cell_type": "code",
   "execution_count": 28,
   "metadata": {
    "colab": {
     "base_uri": "https://localhost:8080/"
    },
    "executionInfo": {
     "elapsed": 7177,
     "status": "ok",
     "timestamp": 1760794297369,
     "user": {
      "displayName": "Robert",
      "userId": "18158112918021476886"
     },
     "user_tz": -330
    },
    "id": "tKi2TbiUOT7U",
    "outputId": "895a42c7-41fc-497d-e814-2dea77c0fdea"
   },
   "outputs": [
    {
     "name": "stdout",
     "output_type": "stream",
     "text": [
      "Epoch: 1, Loss: 165.4335\n",
      "Epoch: 2, Loss: 146.9590\n",
      "Epoch: 3, Loss: 135.2757\n",
      "Epoch: 4, Loss: 123.1196\n",
      "Epoch: 5, Loss: 111.3805\n",
      "Epoch: 6, Loss: 99.8131\n",
      "Epoch: 7, Loss: 89.2862\n",
      "Epoch: 8, Loss: 78.9974\n",
      "Epoch: 9, Loss: 70.0484\n",
      "Epoch: 10, Loss: 61.9188\n",
      "Epoch: 11, Loss: 54.8896\n",
      "Epoch: 12, Loss: 47.8185\n",
      "Epoch: 13, Loss: 42.0582\n",
      "Epoch: 14, Loss: 36.8710\n",
      "Epoch: 15, Loss: 32.6417\n",
      "Epoch: 16, Loss: 28.6807\n",
      "Epoch: 17, Loss: 25.3046\n",
      "Epoch: 18, Loss: 22.3674\n",
      "Epoch: 19, Loss: 20.1041\n",
      "Epoch: 20, Loss: 17.8354\n",
      "Epoch: 21, Loss: 16.0774\n",
      "Epoch: 22, Loss: 14.7359\n",
      "Epoch: 23, Loss: 13.1956\n",
      "Epoch: 24, Loss: 12.1966\n",
      "Epoch: 25, Loss: 11.2843\n",
      "Epoch: 26, Loss: 10.3420\n",
      "Epoch: 27, Loss: 9.8029\n",
      "Epoch: 28, Loss: 8.9778\n",
      "Epoch: 29, Loss: 8.4168\n",
      "Epoch: 30, Loss: 7.9950\n",
      "Epoch: 31, Loss: 7.7856\n",
      "Epoch: 32, Loss: 7.1614\n",
      "Epoch: 33, Loss: 6.9576\n",
      "Epoch: 34, Loss: 6.6583\n",
      "Epoch: 35, Loss: 6.5329\n",
      "Epoch: 36, Loss: 6.2092\n",
      "Epoch: 37, Loss: 5.8679\n",
      "Epoch: 38, Loss: 5.6958\n",
      "Epoch: 39, Loss: 5.6529\n",
      "Epoch: 40, Loss: 5.5640\n",
      "Epoch: 41, Loss: 5.3697\n",
      "Epoch: 42, Loss: 5.1250\n",
      "Epoch: 43, Loss: 5.0815\n",
      "Epoch: 44, Loss: 4.8967\n",
      "Epoch: 45, Loss: 4.8439\n",
      "Epoch: 46, Loss: 4.7064\n",
      "Epoch: 47, Loss: 4.5648\n",
      "Epoch: 48, Loss: 4.5384\n",
      "Epoch: 49, Loss: 4.4921\n",
      "Epoch: 50, Loss: 4.4096\n"
     ]
    }
   ],
   "source": [
    "# training loop\n",
    "\n",
    "for epoch in range(epochs):\n",
    "  total_loss = 0\n",
    "\n",
    "  for batch_x, batch_y in dataloader:\n",
    "\n",
    "    batch_x , batch_y = batch_x.to(device), batch_y.to(device)\n",
    "\n",
    "    optimizer.zero_grad()\n",
    "\n",
    "    output = model(batch_x)\n",
    "\n",
    "    loss = criterion(output, batch_y)\n",
    "\n",
    "    loss.backward()\n",
    "\n",
    "    optimizer.step()\n",
    "\n",
    "    total_loss += loss.item()\n",
    "\n",
    "  print(f\"Epoch: {epoch+1}, Loss: {total_loss:.4f}\")"
   ]
  },
  {
   "cell_type": "code",
   "execution_count": 69,
   "metadata": {
    "executionInfo": {
     "elapsed": 11,
     "status": "ok",
     "timestamp": 1760795157373,
     "user": {
      "displayName": "Robert",
      "userId": "18158112918021476886"
     },
     "user_tz": -330
    },
    "id": "K6KlWLwhRICl"
   },
   "outputs": [],
   "source": [
    "# prediction\n",
    "\n",
    "def prediction(model, vocab, text):\n",
    "\n",
    "  # tokenize input text\n",
    "  tokenized_text = word_tokenize(text.lower())\n",
    "\n",
    "\n",
    "  # text to numerical indices\n",
    "  numerical_text = text_to_indices(tokenized_text, vocab)\n",
    "\n",
    "\n",
    "  # padding\n",
    "  padding_len = 61 - len(numerical_text)\n",
    "  padded_numerical_text = torch.tensor([0]*padding_len + numerical_text, dtype=torch.long).unsqueeze(0)\n",
    "\n",
    "\n",
    "  # send to model\n",
    "  output = model(padded_numerical_text.to(device))\n",
    "\n",
    "\n",
    "  # predicted index\n",
    "  value, index = torch.max(output, dim=1)\n",
    "\n",
    "  # merge with text\n",
    "  return text + ' ' +  list(vocab.keys())[index]\n"
   ]
  },
  {
   "cell_type": "code",
   "execution_count": 71,
   "metadata": {
    "colab": {
     "base_uri": "https://localhost:8080/",
     "height": 36
    },
    "executionInfo": {
     "elapsed": 21,
     "status": "ok",
     "timestamp": 1760795166603,
     "user": {
      "displayName": "Robert",
      "userId": "18158112918021476886"
     },
     "user_tz": -330
    },
    "id": "WLonujW0Rlmb",
    "outputId": "6cd50135-1ed8-43ca-c974-9f4f00a6e768"
   },
   "outputs": [
    {
     "data": {
      "application/vnd.google.colaboratory.intrinsic+json": {
       "type": "string"
      },
      "text/plain": [
       "'data analysis'"
      ]
     },
     "execution_count": 71,
     "metadata": {},
     "output_type": "execute_result"
    }
   ],
   "source": [
    "prediction(model, vocab, \"data\")"
   ]
  },
  {
   "cell_type": "code",
   "execution_count": 77,
   "metadata": {
    "colab": {
     "base_uri": "https://localhost:8080/"
    },
    "executionInfo": {
     "elapsed": 60,
     "status": "ok",
     "timestamp": 1760795330452,
     "user": {
      "displayName": "Robert",
      "userId": "18158112918021476886"
     },
     "user_tz": -330
    },
    "id": "MlGwfoUeihwY",
    "outputId": "ffa8f4f3-2e27-4889-c0a9-d0c9cd2b166d"
   },
   "outputs": [
    {
     "name": "stdout",
     "output_type": "stream",
     "text": [
      "This is to clarify that placement\n",
      "This is to clarify that placement assistance\n",
      "This is to clarify that placement assistance does\n",
      "This is to clarify that placement assistance does not\n",
      "This is to clarify that placement assistance does not mean\n",
      "This is to clarify that placement assistance does not mean placement\n",
      "This is to clarify that placement assistance does not mean placement guarantee\n",
      "This is to clarify that placement assistance does not mean placement guarantee .\n",
      "This is to clarify that placement assistance does not mean placement guarantee . so\n",
      "This is to clarify that placement assistance does not mean placement guarantee . so we\n"
     ]
    }
   ],
   "source": [
    "# to print more next word\n",
    "num_tokens = 10\n",
    "input_text = \"This is to clarify that\"\n",
    "\n",
    "for i in range(num_tokens):\n",
    "  next_word = prediction(model, vocab, input_text)\n",
    "  print(next_word)\n",
    "  input_text = next_word"
   ]
  }
 ],
 "metadata": {
  "accelerator": "GPU",
  "colab": {
   "authorship_tag": "ABX9TyMok6yQQ/c4IgHuq0EXGU0O",
   "gpuType": "T4",
   "provenance": []
  },
  "kernelspec": {
   "display_name": "Python 3",
   "name": "python3"
  },
  "language_info": {
   "name": "python"
  }
 },
 "nbformat": 4,
 "nbformat_minor": 0
}
